{
  "nbformat": 4,
  "nbformat_minor": 0,
  "metadata": {
    "colab": {
      "name": "ASS-1.ipynb",
      "provenance": [],
      "authorship_tag": "ABX9TyMRvyaZxpVD+bmnj06x8cjW",
      "include_colab_link": true
    },
    "kernelspec": {
      "name": "python3",
      "display_name": "Python 3"
    }
  },
  "cells": [
    {
      "cell_type": "markdown",
      "metadata": {
        "id": "view-in-github",
        "colab_type": "text"
      },
      "source": [
        "<a href=\"https://colab.research.google.com/github/RSASHOKSHARMA/Python/blob/main/ASS_1.ipynb\" target=\"_parent\"><img src=\"https://colab.research.google.com/assets/colab-badge.svg\" alt=\"Open In Colab\"/></a>"
      ]
    },
    {
      "cell_type": "markdown",
      "metadata": {
        "id": "7u-41Mbv9NdL"
      },
      "source": [
        "Question 1\r\n",
        "Try 5 Different functions of the String in Python.\r\n",
        "For example - index, split function."
      ]
    },
    {
      "cell_type": "code",
      "metadata": {
        "id": "ktwHDbcQ9g72"
      },
      "source": [
        "name = \"Ashok kumar sharma\"\r\n",
        "name.index(\"a\")\r\n",
        "name.split()\r\n",
        "name.upper()\r\n",
        "name.lower()\r\n",
        "name.title()"
      ],
      "execution_count": null,
      "outputs": []
    },
    {
      "cell_type": "markdown",
      "metadata": {
        "id": "YwOxxUfN9oXo"
      },
      "source": [
        "Question 2\r\n",
        "Try 5 Different functions of the List object in Python"
      ]
    },
    {
      "cell_type": "code",
      "metadata": {
        "id": "r6i8tMfB9x39"
      },
      "source": [
        "lst=[\"Ashok\",\"sharma\",1,2,3,4,5,0.4,.8,\"abhishek\"]\r\n",
        "lst[2]\r\n",
        "type(lst)\r\n",
        "lst.insert(1,\"kumar\")\r\n",
        "lst.index(\"Ashok\")\r\n",
        "lst.append(1)\r\n",
        "len(lst)\r\n",
        "min(\"Ashok\")\r\n"
      ],
      "execution_count": null,
      "outputs": []
    },
    {
      "cell_type": "markdown",
      "metadata": {
        "id": "YQIzy_c596n4"
      },
      "source": [
        "Question 3\r\n",
        "Experiment with at least 5 default functions of Dictionary"
      ]
    },
    {
      "cell_type": "code",
      "metadata": {
        "id": "iLJfgBYp-B5_"
      },
      "source": [
        "Dict = {1: 'Geeks', 2: 'For', 3: 'Geeks'} \r\n",
        "print(Dict)\r\n",
        "Dict.items()\r\n",
        "Dict.keys()\r\n",
        "Dict.values()\r\n",
        "Dict.get(1)\r\n",
        "Dict.pop(1)\r\n"
      ],
      "execution_count": null,
      "outputs": []
    }
  ]
}